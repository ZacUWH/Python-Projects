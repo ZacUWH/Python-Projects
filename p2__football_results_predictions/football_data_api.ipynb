{
 "cells": [
  {
   "cell_type": "markdown",
   "metadata": {},
   "source": [
    "<strong> Football Data import using free API from football_data.org </strong>\n",
    "<br>\n",
    "<br>\n",
    "[(https://www.football-data.org/documentation/quickstart/)]\n",
    "<br>\n",
    "<br>\n",
    "max calls 10 per min, import all data"
   ]
  },
  {
   "cell_type": "markdown",
   "metadata": {},
   "source": [
    "<strong><span style=\"color:Red\"> imports"
   ]
  },
  {
   "cell_type": "code",
   "execution_count": 16,
   "metadata": {},
   "outputs": [],
   "source": [
    "import requests\n",
    "import json\n",
    "from sqlalchemy import create_engine\n",
    "import pandas as pd\n",
    "import pandas as pd\n",
    "from sqlalchemy import create_engine\n",
    "import urllib"
   ]
  },
  {
   "cell_type": "markdown",
   "metadata": {},
   "source": [
    "<strong><span style=\"color:green\"> keys and connections"
   ]
  },
  {
   "cell_type": "code",
   "execution_count": 17,
   "metadata": {},
   "outputs": [],
   "source": [
    "headers= {'X-Auth-Token':'61d4f192459f42c7b2f9043d364e86ea'} "
   ]
  },
  {
   "cell_type": "markdown",
   "metadata": {},
   "source": [
    "matches"
   ]
  },
  {
   "cell_type": "code",
   "execution_count": 18,
   "metadata": {},
   "outputs": [
    {
     "name": "stdout",
     "output_type": "stream",
     "text": [
      "Getting API response from https://api.football-data.org/v4/matches\n",
      "Data successfully converted to DataFrame\n",
      "       id               utcDate    status  matchday           stage group  \\\n",
      "0  524058  2024-11-05T17:45:00Z  FINISHED         4    LEAGUE_STAGE  None   \n",
      "1  524023  2024-11-05T17:45:00Z  FINISHED         4    LEAGUE_STAGE  None   \n",
      "2  500606  2024-11-05T19:45:00Z   IN_PLAY        14  REGULAR_SEASON  None   \n",
      "3  500603  2024-11-05T19:45:00Z   IN_PLAY        14  REGULAR_SEASON  None   \n",
      "4  500605  2024-11-05T19:45:00Z   IN_PLAY        14  REGULAR_SEASON  None   \n",
      "\n",
      "            lastUpdated                                           referees  \\\n",
      "0  2024-11-05T19:43:04Z  [{'id': 11580, 'name': 'Anthony Taylor', 'type...   \n",
      "1  2024-11-05T19:44:24Z  [{'id': 11605, 'name': 'Michael Oliver', 'type...   \n",
      "2  2024-11-05T19:50:24Z  [{'id': 217481, 'name': 'Stephen Martin', 'typ...   \n",
      "3  2024-11-05T19:51:38Z  [{'id': 58041, 'name': 'Will Finnie', 'type': ...   \n",
      "4  2024-11-05T19:50:38Z  [{'id': 11287, 'name': 'Oliver Langford', 'typ...   \n",
      "\n",
      "   area.id area.name  ... awayTeam.shortName awayTeam.tla  \\\n",
      "0     2077    Europe  ...      Dinamo Zagreb          DIN   \n",
      "1     2077    Europe  ...             Girona          GIR   \n",
      "2     2072   England  ...            Norwich          NOR   \n",
      "3     2072   England  ...          Hull City          HUL   \n",
      "4     2072   England  ...      Middlesbrough          MID   \n",
      "\n",
      "                             awayTeam.crest score.winner score.duration  \\\n",
      "0  https://crests.football-data.org/755.png    AWAY_TEAM        REGULAR   \n",
      "1  https://crests.football-data.org/298.png    HOME_TEAM        REGULAR   \n",
      "2   https://crests.football-data.org/68.png         DRAW        REGULAR   \n",
      "3  https://crests.football-data.org/322.png         DRAW        REGULAR   \n",
      "4  https://crests.football-data.org/343.png         DRAW        REGULAR   \n",
      "\n",
      "  score.fullTime.home score.fullTime.away  score.halfTime.home  \\\n",
      "0                 1.0                 4.0                  1.0   \n",
      "1                 4.0                 0.0                  2.0   \n",
      "2                 0.0                 0.0                  NaN   \n",
      "3                 0.0                 0.0                  NaN   \n",
      "4                 0.0                 0.0                  NaN   \n",
      "\n",
      "  score.halfTime.away                                           odds.msg  \n",
      "0                 2.0  Activate Odds-Package in User-Panel to retriev...  \n",
      "1                 0.0  Activate Odds-Package in User-Panel to retriev...  \n",
      "2                 NaN  Activate Odds-Package in User-Panel to retriev...  \n",
      "3                 NaN  Activate Odds-Package in User-Panel to retriev...  \n",
      "4                 NaN  Activate Odds-Package in User-Panel to retriev...  \n",
      "\n",
      "[5 rows x 39 columns]\n"
     ]
    }
   ],
   "source": [
    "uri = 'https://api.football-data.org/v4/matches'\n",
    "print(f'Getting API response from {uri}')\n",
    "\n",
    "try:\n",
    "    response = requests.get(uri, headers=headers)\n",
    "    if response.status_code == 200:\n",
    "        # Extract the matches data\n",
    "        matches = response.json().get('matches', [])\n",
    "        \n",
    "        # Convert the matches list to a DataFrame\n",
    "        df_matches = pd.DataFrame(matches)\n",
    "        df_matches = pd.json_normalize(matches)\n",
    "        print(\"Data successfully converted to DataFrame\")\n",
    "        print(df_matches.head())  # Display first few rows for verification\n",
    "        \n",
    "    else:\n",
    "        print(f'API response failed with status code {response.status_code} from {uri}')\n",
    "except requests.exceptions.RequestException as e:\n",
    "    print(f'Request failed: {e}')\n"
   ]
  },
  {
   "cell_type": "markdown",
   "metadata": {},
   "source": [
    "competitons"
   ]
  },
  {
   "cell_type": "code",
   "execution_count": 19,
   "metadata": {},
   "outputs": [
    {
     "name": "stdout",
     "output_type": "stream",
     "text": [
      "Getting API response from https://api.football-data.org/v4/competitions\n",
      "Data successfully converted to DataFrame\n",
      "     id                           name code    type  \\\n",
      "0  2013  Campeonato Brasileiro Série A  BSA  LEAGUE   \n",
      "1  2016                   Championship  ELC  LEAGUE   \n",
      "2  2021                 Premier League   PL  LEAGUE   \n",
      "3  2001          UEFA Champions League   CL     CUP   \n",
      "4  2018          European Championship   EC     CUP   \n",
      "\n",
      "                                     emblem      plan  \\\n",
      "0  https://crests.football-data.org/bsa.png  TIER_ONE   \n",
      "1  https://crests.football-data.org/ELC.png  TIER_ONE   \n",
      "2   https://crests.football-data.org/PL.png  TIER_ONE   \n",
      "3   https://crests.football-data.org/CL.png  TIER_ONE   \n",
      "4   https://crests.football-data.org/ec.png  TIER_ONE   \n",
      "\n",
      "   numberOfAvailableSeasons           lastUpdated  area.id area.name  ...  \\\n",
      "0                         8  2024-09-13T16:55:53Z     2032    Brazil  ...   \n",
      "1                         8  2024-09-13T16:51:18Z     2072   England  ...   \n",
      "2                       126  2024-09-13T16:51:24Z     2072   England  ...   \n",
      "3                        45  2024-09-13T16:53:48Z     2077    Europe  ...   \n",
      "4                        17  2024-09-13T17:04:30Z     2077    Europe  ...   \n",
      "\n",
      "  currentSeason.winner.name currentSeason.winner.shortName  \\\n",
      "0                       NaN                            NaN   \n",
      "1                       NaN                            NaN   \n",
      "2                       NaN                            NaN   \n",
      "3                       NaN                            NaN   \n",
      "4                     Spain                          Spain   \n",
      "\n",
      "   currentSeason.winner.tla                currentSeason.winner.crest  \\\n",
      "0                       NaN                                       NaN   \n",
      "1                       NaN                                       NaN   \n",
      "2                       NaN                                       NaN   \n",
      "3                       NaN                                       NaN   \n",
      "4                       ESP  https://crests.football-data.org/760.svg   \n",
      "\n",
      "         currentSeason.winner.address  currentSeason.winner.website  \\\n",
      "0                                 NaN                           NaN   \n",
      "1                                 NaN                           NaN   \n",
      "2                                 NaN                           NaN   \n",
      "3                                 NaN                           NaN   \n",
      "4  Ramón y Cajal, s/n Las Rozas 28230            http://www.rfef.es   \n",
      "\n",
      "   currentSeason.winner.founded  currentSeason.winner.clubColors  \\\n",
      "0                           NaN                              NaN   \n",
      "1                           NaN                              NaN   \n",
      "2                           NaN                              NaN   \n",
      "3                           NaN                              NaN   \n",
      "4                        1909.0              Red / Blue / Yellow   \n",
      "\n",
      "   currentSeason.winner.venue currentSeason.winner.lastUpdated  \n",
      "0                         NaN                              NaN  \n",
      "1                         NaN                              NaN  \n",
      "2                         NaN                              NaN  \n",
      "3                         NaN                              NaN  \n",
      "4  Estadio Alfredo Di Stéfano             2021-05-26T09:46:48Z  \n",
      "\n",
      "[5 rows x 28 columns]\n"
     ]
    }
   ],
   "source": [
    "uri = 'https://api.football-data.org/v4/competitions'\n",
    "print(f'Getting API response from {uri}')\n",
    "\n",
    "try:\n",
    "    response = requests.get(uri, headers=headers)\n",
    "    if response.status_code == 200:\n",
    "        # Extract the matches data\n",
    "        competitions = response.json().get('competitions', [])\n",
    "        \n",
    "        # Convert the matches list to a DataFrame\n",
    "        df_competitons = pd.DataFrame(competitions)\n",
    "        df_competitons = pd.json_normalize(competitions)\n",
    "        print(\"Data successfully converted to DataFrame\")\n",
    "        print(df_competitons.head())  # Display first few rows for verification\n",
    "        \n",
    "    else:\n",
    "        print(f'API response failed with status code {response.status_code} from {uri}')\n",
    "except requests.exceptions.RequestException as e:\n",
    "    print(f'Request failed: {e}')\n"
   ]
  },
  {
   "cell_type": "markdown",
   "metadata": {},
   "source": [
    "teams"
   ]
  },
  {
   "cell_type": "code",
   "execution_count": 20,
   "metadata": {},
   "outputs": [
    {
     "name": "stdout",
     "output_type": "stream",
     "text": [
      "Getting API response from https://api.football-data.org/v4/teams/\n",
      "Data successfully converted to DataFrame\n",
      "     id                           name code    type  \\\n",
      "0  2013  Campeonato Brasileiro Série A  BSA  LEAGUE   \n",
      "1  2016                   Championship  ELC  LEAGUE   \n",
      "2  2021                 Premier League   PL  LEAGUE   \n",
      "3  2001          UEFA Champions League   CL     CUP   \n",
      "4  2018          European Championship   EC     CUP   \n",
      "\n",
      "                                     emblem      plan  \\\n",
      "0  https://crests.football-data.org/bsa.png  TIER_ONE   \n",
      "1  https://crests.football-data.org/ELC.png  TIER_ONE   \n",
      "2   https://crests.football-data.org/PL.png  TIER_ONE   \n",
      "3   https://crests.football-data.org/CL.png  TIER_ONE   \n",
      "4   https://crests.football-data.org/ec.png  TIER_ONE   \n",
      "\n",
      "   numberOfAvailableSeasons           lastUpdated  area.id area.name  ...  \\\n",
      "0                         8  2024-09-13T16:55:53Z     2032    Brazil  ...   \n",
      "1                         8  2024-09-13T16:51:18Z     2072   England  ...   \n",
      "2                       126  2024-09-13T16:51:24Z     2072   England  ...   \n",
      "3                        45  2024-09-13T16:53:48Z     2077    Europe  ...   \n",
      "4                        17  2024-09-13T17:04:30Z     2077    Europe  ...   \n",
      "\n",
      "  currentSeason.winner.name currentSeason.winner.shortName  \\\n",
      "0                       NaN                            NaN   \n",
      "1                       NaN                            NaN   \n",
      "2                       NaN                            NaN   \n",
      "3                       NaN                            NaN   \n",
      "4                     Spain                          Spain   \n",
      "\n",
      "   currentSeason.winner.tla                currentSeason.winner.crest  \\\n",
      "0                       NaN                                       NaN   \n",
      "1                       NaN                                       NaN   \n",
      "2                       NaN                                       NaN   \n",
      "3                       NaN                                       NaN   \n",
      "4                       ESP  https://crests.football-data.org/760.svg   \n",
      "\n",
      "         currentSeason.winner.address  currentSeason.winner.website  \\\n",
      "0                                 NaN                           NaN   \n",
      "1                                 NaN                           NaN   \n",
      "2                                 NaN                           NaN   \n",
      "3                                 NaN                           NaN   \n",
      "4  Ramón y Cajal, s/n Las Rozas 28230            http://www.rfef.es   \n",
      "\n",
      "   currentSeason.winner.founded  currentSeason.winner.clubColors  \\\n",
      "0                           NaN                              NaN   \n",
      "1                           NaN                              NaN   \n",
      "2                           NaN                              NaN   \n",
      "3                           NaN                              NaN   \n",
      "4                        1909.0              Red / Blue / Yellow   \n",
      "\n",
      "   currentSeason.winner.venue currentSeason.winner.lastUpdated  \n",
      "0                         NaN                              NaN  \n",
      "1                         NaN                              NaN  \n",
      "2                         NaN                              NaN  \n",
      "3                         NaN                              NaN  \n",
      "4  Estadio Alfredo Di Stéfano             2021-05-26T09:46:48Z  \n",
      "\n",
      "[5 rows x 28 columns]\n"
     ]
    }
   ],
   "source": [
    "uri = 'https://api.football-data.org/v4/teams/'\n",
    "print(f'Getting API response from {uri}')\n",
    "\n",
    "try:\n",
    "    response = requests.get(uri, headers=headers)\n",
    "    if response.status_code == 200:\n",
    "        # Extract the matches data\n",
    "        teams = response.json().get('teams', [])\n",
    "        \n",
    "        # Convert the matches list to a DataFrame\n",
    "        df_teams = pd.DataFrame(teams)\n",
    "        df_teams = pd.json_normalize(teams)\n",
    "        print(\"Data successfully converted to DataFrame\")\n",
    "        print(df_competitons.head())  # Display first few rows for verification\n",
    "        \n",
    "    else:\n",
    "        print(f'API response failed with status code {response.status_code} from {uri}')\n",
    "except requests.exceptions.RequestException as e:\n",
    "    print(f'Request failed: {e}')"
   ]
  },
  {
   "cell_type": "markdown",
   "metadata": {},
   "source": [
    "write API results to SQL DB"
   ]
  },
  {
   "cell_type": "code",
   "execution_count": 24,
   "metadata": {},
   "outputs": [
    {
     "data": {
      "text/plain": [
       "50"
      ]
     },
     "execution_count": 24,
     "metadata": {},
     "output_type": "execute_result"
    }
   ],
   "source": [
    "#database connection detials\n",
    "server = r\"LAPTOP-ODMD499J\\ZWDEV001\"\n",
    "database = \"football_analysis\"\n",
    "\n",
    "connection_string = (\n",
    "    f\"mssql+pyodbc:///?odbc_connect=\"\n",
    "    + urllib.parse.quote_plus(\n",
    "        f\"Driver={{ODBC Driver 17 for SQL Server}};\"\n",
    "        f\"Server={server};\"\n",
    "        f\"Database={database};\"\n",
    "        f\"Trusted_Connection=yes;\"\n",
    "    )\n",
    ")\n",
    "\n",
    "# Create SQLAlchemy engine\n",
    "engine = create_engine(connection_string)\n",
    "\n",
    "\n",
    "conn=create_engine\n",
    "\n",
    "df_matches.to_sql('matches',con=engine,if_exists='append',index=False)\n",
    "df_competitons.to_sql('competitons',con=engine,if_exists='append',index=False)\n",
    "df_teams.to_sql('teams',con=engine,if_exists='append',index=False)"
   ]
  },
  {
   "cell_type": "code",
   "execution_count": null,
   "metadata": {},
   "outputs": [],
   "source": []
  }
 ],
 "metadata": {
  "kernelspec": {
   "display_name": "Python 3",
   "language": "python",
   "name": "python3"
  },
  "language_info": {
   "codemirror_mode": {
    "name": "ipython",
    "version": 3
   },
   "file_extension": ".py",
   "mimetype": "text/x-python",
   "name": "python",
   "nbconvert_exporter": "python",
   "pygments_lexer": "ipython3",
   "version": "3.11.9"
  }
 },
 "nbformat": 4,
 "nbformat_minor": 2
}
